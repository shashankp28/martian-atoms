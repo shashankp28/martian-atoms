{
 "cells": [
  {
   "cell_type": "code",
   "execution_count": 87,
   "metadata": {},
   "outputs": [],
   "source": [
    "import pandas as pd\n",
    "import numpy as np\n",
    "import matplotlib.pyplot as plt\n",
    "from scipy.signal import find_peaks\n",
    "import plotly.graph_objects as go\n",
    "%matplotlib inline"
   ]
  },
  {
   "cell_type": "code",
   "execution_count": 88,
   "metadata": {},
   "outputs": [
    {
     "data": {
      "text/html": [
       "<div>\n",
       "<style scoped>\n",
       "    .dataframe tbody tr th:only-of-type {\n",
       "        vertical-align: middle;\n",
       "    }\n",
       "\n",
       "    .dataframe tbody tr th {\n",
       "        vertical-align: top;\n",
       "    }\n",
       "\n",
       "    .dataframe thead th {\n",
       "        text-align: right;\n",
       "    }\n",
       "</style>\n",
       "<table border=\"1\" class=\"dataframe\">\n",
       "  <thead>\n",
       "    <tr style=\"text-align: right;\">\n",
       "      <th></th>\n",
       "      <th>sample_id</th>\n",
       "      <th>split</th>\n",
       "      <th>derivatized</th>\n",
       "      <th>features_path</th>\n",
       "      <th>features_md5_hash</th>\n",
       "    </tr>\n",
       "  </thead>\n",
       "  <tbody>\n",
       "    <tr>\n",
       "      <th>0</th>\n",
       "      <td>S0000</td>\n",
       "      <td>train</td>\n",
       "      <td>NaN</td>\n",
       "      <td>train_features/S0000.csv</td>\n",
       "      <td>52ec6d6f8372500ab4e069b5fbdae6f9</td>\n",
       "    </tr>\n",
       "    <tr>\n",
       "      <th>1</th>\n",
       "      <td>S0001</td>\n",
       "      <td>train</td>\n",
       "      <td>NaN</td>\n",
       "      <td>train_features/S0001.csv</td>\n",
       "      <td>348f90baed8a8189bf0d4c7b9ed9f965</td>\n",
       "    </tr>\n",
       "    <tr>\n",
       "      <th>2</th>\n",
       "      <td>S0002</td>\n",
       "      <td>train</td>\n",
       "      <td>1.0</td>\n",
       "      <td>train_features/S0002.csv</td>\n",
       "      <td>4686ad9bc3716966f63b6ff83d1d8324</td>\n",
       "    </tr>\n",
       "    <tr>\n",
       "      <th>3</th>\n",
       "      <td>S0003</td>\n",
       "      <td>train</td>\n",
       "      <td>NaN</td>\n",
       "      <td>train_features/S0003.csv</td>\n",
       "      <td>de6b53605c5887967dc3661a3a711c2b</td>\n",
       "    </tr>\n",
       "    <tr>\n",
       "      <th>4</th>\n",
       "      <td>S0004</td>\n",
       "      <td>train</td>\n",
       "      <td>NaN</td>\n",
       "      <td>train_features/S0004.csv</td>\n",
       "      <td>fbfd90092d10d15a5d6919327ddde2ab</td>\n",
       "    </tr>\n",
       "  </tbody>\n",
       "</table>\n",
       "</div>"
      ],
      "text/plain": [
       "  sample_id  split  derivatized             features_path  \\\n",
       "0     S0000  train          NaN  train_features/S0000.csv   \n",
       "1     S0001  train          NaN  train_features/S0001.csv   \n",
       "2     S0002  train          1.0  train_features/S0002.csv   \n",
       "3     S0003  train          NaN  train_features/S0003.csv   \n",
       "4     S0004  train          NaN  train_features/S0004.csv   \n",
       "\n",
       "                  features_md5_hash  \n",
       "0  52ec6d6f8372500ab4e069b5fbdae6f9  \n",
       "1  348f90baed8a8189bf0d4c7b9ed9f965  \n",
       "2  4686ad9bc3716966f63b6ff83d1d8324  \n",
       "3  de6b53605c5887967dc3661a3a711c2b  \n",
       "4  fbfd90092d10d15a5d6919327ddde2ab  "
      ]
     },
     "execution_count": 88,
     "metadata": {},
     "output_type": "execute_result"
    }
   ],
   "source": [
    "metadata = pd.read_csv('metadata.csv')\n",
    "train_labels = pd.read_csv('train_labels.csv')\n",
    "metadata.head()"
   ]
  },
  {
   "cell_type": "code",
   "execution_count": 89,
   "metadata": {},
   "outputs": [
    {
     "data": {
      "text/plain": [
       "['aromatic',\n",
       " 'hydrocarbon',\n",
       " 'carboxylic_acid',\n",
       " 'nitrogen_bearing_compound',\n",
       " 'chlorine_bearing_compound',\n",
       " 'sulfur_bearing_compound',\n",
       " 'alcohol',\n",
       " 'other_oxygen_bearing_compound',\n",
       " 'mineral']"
      ]
     },
     "execution_count": 89,
     "metadata": {},
     "output_type": "execute_result"
    }
   ],
   "source": [
    "def metadata_parser(metadata):\n",
    "    train_dict = {}\n",
    "    val_dict = {}\n",
    "    for row in metadata.iterrows():\n",
    "        if row[1].split == 'train':\n",
    "            train_dict[row[1].sample_id] = row[1].features_path\n",
    "        else:\n",
    "            val_dict[row[1].sample_id] = row[1].features_path\n",
    "    return train_dict, val_dict\n",
    "\n",
    "def train_label_parser(train_labels):\n",
    "    train_labels_dict = {}\n",
    "    for row in train_labels.iterrows():\n",
    "        row_list = list(row[1])\n",
    "        train_labels_dict[row_list[0]] = row_list[1:]\n",
    "    columns = list(train_labels.columns)\n",
    "    return train_labels_dict, columns[1:]\n",
    "\n",
    "train_path, val_path = metadata_parser(metadata)\n",
    "train_labels_dict, labels = train_label_parser(train_labels)\n",
    "\n",
    "def get_ids_per_class():\n",
    "    ids_per_class = {}\n",
    "    for class_name in labels:\n",
    "        index = labels.index(class_name)\n",
    "        ids = []\n",
    "        for key, value in train_labels_dict.items():\n",
    "            if value[index] == 1:\n",
    "                ids.append(key)\n",
    "        ids_per_class[class_name] = ids\n",
    "    return ids_per_class\n",
    "    \n",
    "ids_per_class = get_ids_per_class()\n",
    "labels"
   ]
  },
  {
   "cell_type": "code",
   "execution_count": 114,
   "metadata": {},
   "outputs": [],
   "source": [
    "def train_data_parser(id):\n",
    "    path = train_path[id]\n",
    "    data = pd.read_csv(path)\n",
    "    data.sort_values('mass')\n",
    "    labels = list(data.columns)\n",
    "    data = {\n",
    "        'time': np.array(data.time),\n",
    "        'mass': np.array(data.mass),\n",
    "        'intensity': np.array(data.intensity),\n",
    "    }\n",
    "    return data\n",
    "\n",
    "\n",
    "def peak_intensity_plotter(sample_id, number_of_peaks, width):\n",
    "    data = train_data_parser(sample_id)\n",
    "    indices = find_peaks(data['intensity'], width=width)[0]\n",
    "    sorted_peaks = sorted(indices, key=lambda x: data['intensity'][x], reverse=True)\n",
    "    filtered_indices = sorted_peaks[:number_of_peaks]\n",
    "    plt.plot(data['mass'], data['intensity'])\n",
    "    plt.plot(data['mass'][filtered_indices], \n",
    "             data['intensity'][filtered_indices], \n",
    "             'x', color='red')\n",
    "    return indices"
   ]
  },
  {
   "cell_type": "code",
   "execution_count": 115,
   "metadata": {},
   "outputs": [
    {
     "data": {
      "text/plain": [
       "array([   203,    575,   1820,   2245,   2419,   2698,   3523,   4790,\n",
       "         5208,   5343,   5492,   5625,   5637,   6057,   7336,   7807,\n",
       "         7974,   8615,   8690,   9405,   9849,  10753,  11061,  11734,\n",
       "        11916,  11956,  12422,  12554,  12770,  12855,  13004,  13153,\n",
       "        13434,  13565,  13646,  14406,  14436,  15790,  16204,  16924,\n",
       "        17063,  17164,  17716,  17770,  17804,  17871,  18592,  19003,\n",
       "        19850,  20303,  20358,  21650,  22559,  22832,  23311,  24361,\n",
       "        24664,  24896,  25067,  26658,  26993,  27482,  27901,  27981,\n",
       "        29162,  30080,  30098,  30200,  30347,  30442,  30764,  31348,\n",
       "        31600,  32262,  33408,  33879,  34141,  34223,  34566,  34724,\n",
       "        35397,  35546,  35910,  36460,  37545,  38059,  38396,  38760,\n",
       "        38905,  40600,  40863,  41132,  41431,  41694,  41709,  42542,\n",
       "        43548,  45212,  47318,  47574,  47822,  48077,  48139,  48385,\n",
       "        48878,  49392,  50234,  52823,  54065,  56148,  56327,  57112,\n",
       "        57337,  58984,  59342,  59410,  61797,  62812,  63033,  63046,\n",
       "        65293,  72469,  73320,  73397,  74475,  75045,  75879,  76694,\n",
       "        78571,  78743,  79047,  79128,  81822,  82224,  84843,  86596,\n",
       "        87217,  91195,  93403,  94953,  95355,  96582,  97801,  99106,\n",
       "        99125,  99937, 102452, 103547, 110406, 110851, 112763, 113973,\n",
       "       114788, 117397, 120215, 125481, 125886, 127088, 127643, 127970,\n",
       "       133256, 133328, 139173, 140262, 142594, 143320, 143913, 144437,\n",
       "       144705, 150553, 152074, 156273, 156666, 158207, 166663, 168209,\n",
       "       172891, 173989, 177525, 181095, 183986, 186991, 188897, 189387,\n",
       "       198884, 200547, 204141, 208469, 218618, 223727, 228684, 234851,\n",
       "       239322, 241476, 242274, 242448, 249633, 251526, 253811, 257344,\n",
       "       260577, 260732, 265654, 265739, 277928, 287322, 295206, 442498,\n",
       "       459679, 462864], dtype=int64)"
      ]
     },
     "execution_count": 115,
     "metadata": {},
     "output_type": "execute_result"
    },
    {
     "data": {
      "image/png": "[encoded data removed]",
      "text/plain": [
       "<Figure size 640x480 with 1 Axes>"
      ]
     },
     "metadata": {},
     "output_type": "display_data"
    }
   ],
   "source": [
    "peak_intensity_plotter(ids_per_class['hydrocarbon'][4], 100, 5)"
   ]
  },
  {
   "cell_type": "code",
   "execution_count": null,
   "metadata": {},
   "outputs": [],
   "source": []
  }
 ],
 "metadata": {
  "kernelspec": {
   "display_name": "Python 3",
   "language": "python",
   "name": "python3"
  },
  "language_info": {
   "codemirror_mode": {
    "name": "ipython",
    "version": 3
   },
   "file_extension": ".py",
   "mimetype": "text/x-python",
   "name": "python",
   "nbconvert_exporter": "python",
   "pygments_lexer": "ipython3",
   "version": "3.11.3"
  },
  "orig_nbformat": 4
 },
 "nbformat": 4,
 "nbformat_minor": 2
}
