{
 "cells": [
  {
   "cell_type": "code",
   "execution_count": 36,
   "metadata": {},
   "outputs": [],
   "source": [
    "import pandas as pd"
   ]
  },
  {
   "cell_type": "code",
   "execution_count": 37,
   "metadata": {},
   "outputs": [
    {
     "data": {
      "text/html": [
       "<div>\n",
       "<style scoped>\n",
       "    .dataframe tbody tr th:only-of-type {\n",
       "        vertical-align: middle;\n",
       "    }\n",
       "\n",
       "    .dataframe tbody tr th {\n",
       "        vertical-align: top;\n",
       "    }\n",
       "\n",
       "    .dataframe thead th {\n",
       "        text-align: right;\n",
       "    }\n",
       "</style>\n",
       "<table border=\"1\" class=\"dataframe\">\n",
       "  <thead>\n",
       "    <tr style=\"text-align: right;\">\n",
       "      <th></th>\n",
       "      <th>sample_id</th>\n",
       "      <th>split</th>\n",
       "      <th>derivatized</th>\n",
       "      <th>features_path</th>\n",
       "      <th>features_md5_hash</th>\n",
       "    </tr>\n",
       "  </thead>\n",
       "  <tbody>\n",
       "    <tr>\n",
       "      <th>0</th>\n",
       "      <td>S0000</td>\n",
       "      <td>train</td>\n",
       "      <td>NaN</td>\n",
       "      <td>train_features/S0000.csv</td>\n",
       "      <td>52ec6d6f8372500ab4e069b5fbdae6f9</td>\n",
       "    </tr>\n",
       "    <tr>\n",
       "      <th>1</th>\n",
       "      <td>S0001</td>\n",
       "      <td>train</td>\n",
       "      <td>NaN</td>\n",
       "      <td>train_features/S0001.csv</td>\n",
       "      <td>348f90baed8a8189bf0d4c7b9ed9f965</td>\n",
       "    </tr>\n",
       "    <tr>\n",
       "      <th>2</th>\n",
       "      <td>S0002</td>\n",
       "      <td>train</td>\n",
       "      <td>1.0</td>\n",
       "      <td>train_features/S0002.csv</td>\n",
       "      <td>4686ad9bc3716966f63b6ff83d1d8324</td>\n",
       "    </tr>\n",
       "    <tr>\n",
       "      <th>3</th>\n",
       "      <td>S0003</td>\n",
       "      <td>train</td>\n",
       "      <td>NaN</td>\n",
       "      <td>train_features/S0003.csv</td>\n",
       "      <td>de6b53605c5887967dc3661a3a711c2b</td>\n",
       "    </tr>\n",
       "    <tr>\n",
       "      <th>4</th>\n",
       "      <td>S0004</td>\n",
       "      <td>train</td>\n",
       "      <td>NaN</td>\n",
       "      <td>train_features/S0004.csv</td>\n",
       "      <td>fbfd90092d10d15a5d6919327ddde2ab</td>\n",
       "    </tr>\n",
       "  </tbody>\n",
       "</table>\n",
       "</div>"
      ],
      "text/plain": [
       "  sample_id  split  derivatized             features_path  \\\n",
       "0     S0000  train          NaN  train_features/S0000.csv   \n",
       "1     S0001  train          NaN  train_features/S0001.csv   \n",
       "2     S0002  train          1.0  train_features/S0002.csv   \n",
       "3     S0003  train          NaN  train_features/S0003.csv   \n",
       "4     S0004  train          NaN  train_features/S0004.csv   \n",
       "\n",
       "                  features_md5_hash  \n",
       "0  52ec6d6f8372500ab4e069b5fbdae6f9  \n",
       "1  348f90baed8a8189bf0d4c7b9ed9f965  \n",
       "2  4686ad9bc3716966f63b6ff83d1d8324  \n",
       "3  de6b53605c5887967dc3661a3a711c2b  \n",
       "4  fbfd90092d10d15a5d6919327ddde2ab  "
      ]
     },
     "execution_count": 37,
     "metadata": {},
     "output_type": "execute_result"
    }
   ],
   "source": [
    "metadata = pd.read_csv('metadata.csv')\n",
    "train_labels = pd.read_csv('train_labels.csv')\n",
    "metadata.head()"
   ]
  },
  {
   "cell_type": "code",
   "execution_count": 40,
   "metadata": {},
   "outputs": [],
   "source": [
    "def metadata_parser(metadata):\n",
    "    train_dict = {}\n",
    "    val_dict = {}\n",
    "    for row in metadata.iterrows():\n",
    "        if row[1].split == 'train':\n",
    "            train_dict[row[1].sample_id] = row[1].features_path\n",
    "        else:\n",
    "            val_dict[row[1].sample_id] = row[1].features_path\n",
    "    return train_dict, val_dict\n",
    "\n",
    "def train_label_parser(train_labels):\n",
    "    train_labels_dict = {}\n",
    "    for row in train_labels.iterrows():\n",
    "        row_list = list(row[1])\n",
    "        train_labels_dict[row_list[0]] = row_list[1:]\n",
    "    columns = list(train_labels.columns)\n",
    "    return train_labels_dict, columns[1:]\n",
    "\n",
    "train_path, val_path = metadata_parser(metadata)\n",
    "train_labels_dict, labels = train_label_parser(train_labels)"
   ]
  },
  {
   "cell_type": "code",
   "execution_count": null,
   "metadata": {},
   "outputs": [],
   "source": []
  }
 ],
 "metadata": {
  "kernelspec": {
   "display_name": "Python 3",
   "language": "python",
   "name": "python3"
  },
  "language_info": {
   "codemirror_mode": {
    "name": "ipython",
    "version": 3
   },
   "file_extension": ".py",
   "mimetype": "text/x-python",
   "name": "python",
   "nbconvert_exporter": "python",
   "pygments_lexer": "ipython3",
   "version": "3.11.3"
  },
  "orig_nbformat": 4
 },
 "nbformat": 4,
 "nbformat_minor": 2
}
